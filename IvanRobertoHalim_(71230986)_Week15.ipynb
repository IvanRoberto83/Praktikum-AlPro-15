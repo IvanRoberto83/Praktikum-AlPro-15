{
  "nbformat": 4,
  "nbformat_minor": 0,
  "metadata": {
    "colab": {
      "provenance": []
    },
    "kernelspec": {
      "name": "python3",
      "display_name": "Python 3"
    },
    "language_info": {
      "name": "python"
    }
  },
  "cells": [
    {
      "cell_type": "code",
      "execution_count": 1,
      "metadata": {
        "colab": {
          "base_uri": "https://localhost:8080/"
        },
        "id": "PPHpMHVnWQVT",
        "outputId": "c8585a11-6b6d-4002-9a9b-d9e163e80842"
      },
      "outputs": [
        {
          "output_type": "stream",
          "name": "stdout",
          "text": [
            "Tanggal Hari Ini : 01-06-2024\n",
            "1945-08-17 | 17-08-1945 | selisih 28759 hari\n",
            "1901-06-06 | 06-06-1901 | selisih 44890 hari\n",
            "1921-06-08 | 08-06-1921 | selisih 37588 hari\n",
            "1936-06-25 | 25-06-1936 | selisih 32096 hari\n",
            "1940-09-07 | 07-09-1940 | selisih 30564 hari\n",
            "1947-01-23 | 23-01-1947 | selisih 28233 hari\n",
            "1949-09-09 | 09-09-1949 | selisih 27277 hari\n",
            "1961-06-21 | 21-06-1961 | selisih 22975 hari\n",
            "1951-10-17 | 17-10-1951 | selisih 26509 hari\n"
          ]
        }
      ],
      "source": [
        "#Soal 1\n",
        "\n",
        "import re\n",
        "\n",
        "ini_teks = \"\"\"Pada tanggal 1945-08-17 Indonesia merdeka. Sampai saat ini, tercatat Indonesia sudah dipimpin\n",
        "oleh 7 presiden, seperti Ir.Soekarno (TL: 1901-06-06), Soeharto (TL: 1921-06-08), B.J.Habibie\n",
        "(TL: 1936-06-25), Abdurrahman Wahid (TL: 1940-09-07), Megawati (1947-01-23), Susilo Bambang Yudhoyono\n",
        "(TL: 1949-09-09), dan Joko Widodo (TL: 1961-06-21). Selanjutnya, akan dipimpin oleh Prabowo Subianto\n",
        "(TL: 1951-10-17)\"\"\"\n",
        "\n",
        "tanggal_teks = re.findall(\"\\d{4}-\\d{2}-\\d{2}\", ini_teks)\n",
        "tahun_sekarang = 2024\n",
        "bulan_sekarang = 6\n",
        "tanggal_sekarang = 1\n",
        "\n",
        "total_hari_tahun_sekarang = tahun_sekarang * 365\n",
        "total_hari_bulan_sekarang = bulan_sekarang * 30\n",
        "total_hari_sekarang = total_hari_tahun_sekarang + total_hari_bulan_sekarang + tanggal_sekarang\n",
        "\n",
        "print(\"Tanggal Hari Ini : 01-06-2024\")\n",
        "\n",
        "for waktu in tanggal_teks:\n",
        "    tahun, bulan, tanggal = waktu.split(\"-\")\n",
        "    total_hari_tahun = int(tahun) * 365\n",
        "    total_hari_bulan = int(bulan) * 30\n",
        "    tanggal = int(tanggal)\n",
        "\n",
        "    total_hari = total_hari_tahun + total_hari_bulan + tanggal\n",
        "    selisih = total_hari_sekarang - total_hari\n",
        "\n",
        "    format_baru = \"-\".join(waktu.split('-')[::-1])\n",
        "\n",
        "    print(f\"{waktu} | {format_baru} | selisih {selisih} hari\")"
      ]
    },
    {
      "cell_type": "code",
      "source": [
        "#Soal 2\n",
        "\n",
        "import re\n",
        "import random\n",
        "\n",
        "teks = \"\"\"Berikut adalah daftar email dan nama pengguna dari mailing list:\n",
        "anton@mail.com dimiliki oleh antonius\n",
        "budi@gmail.co.id dimiliki oleh budi anwari\n",
        "slamet@getnada.com dimiliki oleh slamet slumut\n",
        "matahari@tokopedia.com dimiliki oleh toko matahari\n",
        "laprak@prakalpro.com dimiliki oleh ukdw\n",
        "ivan@gmail.com dimiliki oleh roberto\n",
        "\"\"\"\n",
        "\n",
        "karakter = \"abcdefghijklmnopqrstuvwxyzABCDEFGHIJKLMNOPQRSTUVWXYZ0123456789\"\n",
        "\n",
        "email = re.findall(\"\\S+@\\S+\", teks)\n",
        "\n",
        "for username in email:\n",
        "    password = []\n",
        "    print(username, end=\" | \")\n",
        "    username = username.split('@')\n",
        "    print(f\"Username: {username[0]}\", end=\" | \")\n",
        "\n",
        "    for i in range(8):\n",
        "        x = random.choice(karakter)\n",
        "        password.append(x)\n",
        "\n",
        "    password = \"\".join(password)\n",
        "    print(f\"Password: {password}\")"
      ],
      "metadata": {
        "colab": {
          "base_uri": "https://localhost:8080/"
        },
        "id": "glr719BeWar_",
        "outputId": "3613bf5b-a922-4783-ad31-5f172606e139"
      },
      "execution_count": 2,
      "outputs": [
        {
          "output_type": "stream",
          "name": "stdout",
          "text": [
            "anton@mail.com | Username: anton | Password: bmaVt2yR\n",
            "budi@gmail.co.id | Username: budi | Password: MyZ1orZL\n",
            "slamet@getnada.com | Username: slamet | Password: avC9Fljc\n",
            "matahari@tokopedia.com | Username: matahari | Password: cTzlPP4G\n",
            "laprak@prakalpro.com | Username: laprak | Password: kjelhVSZ\n",
            "ivan@gmail.com | Username: ivan | Password: UF6qhZCV\n"
          ]
        }
      ]
    }
  ]
}